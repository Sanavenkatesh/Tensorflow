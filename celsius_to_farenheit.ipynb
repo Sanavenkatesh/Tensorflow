{
  "nbformat": 4,
  "nbformat_minor": 0,
  "metadata": {
    "colab": {
      "name": "celsius_to_farenheit.ipynb",
      "version": "0.3.2",
      "provenance": [],
      "include_colab_link": true
    },
    "kernelspec": {
      "name": "python3",
      "display_name": "Python 3"
    },
    "accelerator": "GPU"
  },
  "cells": [
    {
      "cell_type": "markdown",
      "metadata": {
        "id": "view-in-github",
        "colab_type": "text"
      },
      "source": [
        "<a href=\"https://colab.research.google.com/github/Sanavenkatesh/Tensorflow/blob/master/celsius_to_farenheit.ipynb\" target=\"_parent\"><img src=\"https://colab.research.google.com/assets/colab-badge.svg\" alt=\"Open In Colab\"/></a>"
      ]
    },
    {
      "cell_type": "markdown",
      "metadata": {
        "id": "RAZ3iyoWSxvH",
        "colab_type": "text"
      },
      "source": [
        "conversion from celsius to farenheit using neural network\n",
        "\n",
        "import necessary files"
      ]
    },
    {
      "cell_type": "code",
      "metadata": {
        "id": "D6Dkm-wrSsGQ",
        "colab_type": "code",
        "colab": {}
      },
      "source": [
        "import tensorflow as tf\n",
        "import numpy as np"
      ],
      "execution_count": 0,
      "outputs": []
    },
    {
      "cell_type": "markdown",
      "metadata": {
        "id": "NjfbF55hVMZn",
        "colab_type": "text"
      },
      "source": [
        "creating training data labels and features"
      ]
    },
    {
      "cell_type": "code",
      "metadata": {
        "id": "g9MPblX2Uf_0",
        "colab_type": "code",
        "colab": {}
      },
      "source": [
        "celsius = np.array([-40, -10, 0, 8, 15, 22, 38], dtype=float)\n",
        "farenheit = np.array([-40, 14, 32, 46.4, 59, 72, 100], dtype=float)"
      ],
      "execution_count": 0,
      "outputs": []
    },
    {
      "cell_type": "markdown",
      "metadata": {
        "id": "HQ01gtIRVaE5",
        "colab_type": "text"
      },
      "source": [
        "checking data"
      ]
    },
    {
      "cell_type": "code",
      "metadata": {
        "id": "_vdBB1TfUxZf",
        "colab_type": "code",
        "colab": {
          "base_uri": "https://localhost:8080/",
          "height": 136
        },
        "outputId": "3da9a6ec-ec3c-41b6-bf26-a26a0e8844ba"
      },
      "source": [
        "for i,c in enumerate(celsius):\n",
        "    print(\"{} degrees celsius = {} degrees farenheit\".format(c, farenheit[i]))"
      ],
      "execution_count": 26,
      "outputs": [
        {
          "output_type": "stream",
          "text": [
            "-40.0 degrees celsius = -40.0 degrees farenheit\n",
            "-10.0 degrees celsius = 14.0 degrees farenheit\n",
            "0.0 degrees celsius = 32.0 degrees farenheit\n",
            "8.0 degrees celsius = 46.4 degrees farenheit\n",
            "15.0 degrees celsius = 59.0 degrees farenheit\n",
            "22.0 degrees celsius = 72.0 degrees farenheit\n",
            "38.0 degrees celsius = 100.0 degrees farenheit\n"
          ],
          "name": "stdout"
        }
      ]
    },
    {
      "cell_type": "markdown",
      "metadata": {
        "id": "Lw27bzROVfh_",
        "colab_type": "text"
      },
      "source": [
        "creating neural network layer.\n",
        "syntax of creating neural network \"tf.keras.layers.Dense(variables)\",\n",
        "here variables are units and input_shape.\n",
        "units are number of nodes in the layer,\n",
        "input_shape are number of inputs.\n",
        "\n",
        "\n",
        "\n",
        "---\n",
        "\n",
        "Here we use only one layer.\n",
        "\n",
        "---\n",
        "\n",
        "if we use more layers error wii be less\n"
      ]
    },
    {
      "cell_type": "code",
      "metadata": {
        "id": "zsUBNtmPU6Gw",
        "colab_type": "code",
        "colab": {}
      },
      "source": [
        "model = tf.keras.Sequential([tf.keras.layers.Dense(units=1, input_shape=[1])])"
      ],
      "execution_count": 0,
      "outputs": []
    },
    {
      "cell_type": "markdown",
      "metadata": {
        "id": "MEIbE7u6Wh1k",
        "colab_type": "text"
      },
      "source": [
        "compiling the model using 'mean_squared_error' and 'Adam optimizer' "
      ]
    },
    {
      "cell_type": "code",
      "metadata": {
        "id": "BBgWYhM6U-xw",
        "colab_type": "code",
        "colab": {}
      },
      "source": [
        "model.compile(loss='mean_squared_error', optimizer=tf.keras.optimizers.Adam(0.1))"
      ],
      "execution_count": 0,
      "outputs": []
    },
    {
      "cell_type": "markdown",
      "metadata": {
        "id": "gaulTpv4WkcP",
        "colab_type": "text"
      },
      "source": [
        "Training the model"
      ]
    },
    {
      "cell_type": "code",
      "metadata": {
        "id": "JPCI2ojnVFJy",
        "colab_type": "code",
        "colab": {
          "base_uri": "https://localhost:8080/",
          "height": 34
        },
        "outputId": "1b75c786-d97a-4ae2-b772-a510ae8a02a3"
      },
      "source": [
        "history = model.fit(celsius, farenheit, epochs=500,verbose=False)\n",
        "print('Finished training model')"
      ],
      "execution_count": 29,
      "outputs": [
        {
          "output_type": "stream",
          "text": [
            "Finished training model\n"
          ],
          "name": "stdout"
        }
      ]
    },
    {
      "cell_type": "markdown",
      "metadata": {
        "id": "GziwX31xW3aV",
        "colab_type": "text"
      },
      "source": [
        "predicting the values"
      ]
    },
    {
      "cell_type": "code",
      "metadata": {
        "id": "3rBL4EklVHHR",
        "colab_type": "code",
        "colab": {
          "base_uri": "https://localhost:8080/",
          "height": 34
        },
        "outputId": "beff754f-8538-4993-b09c-96ecfb0d90e7"
      },
      "source": [
        "print(model.predict([40.0]))"
      ],
      "execution_count": 30,
      "outputs": [
        {
          "output_type": "stream",
          "text": [
            "[[101.833534]]\n"
          ],
          "name": "stdout"
        }
      ]
    },
    {
      "cell_type": "markdown",
      "metadata": {
        "id": "PJJLt-oCX6py",
        "colab_type": "text"
      },
      "source": [
        "Here we use three layers.\n",
        "\n",
        "first layer with four nodes with one input,\n",
        "second layer with four nodes (hidden layer),\n",
        "third layer with one node(output layer).\n"
      ]
    },
    {
      "cell_type": "code",
      "metadata": {
        "id": "eUkc_585YNxm",
        "colab_type": "code",
        "colab": {}
      },
      "source": [
        "l0 = tf.keras.layers.Dense(units=4, input_shape=[1])\n",
        "l1 = tf.keras.layers.Dense(units=4)\n",
        "l2 = tf.keras.layers.Dense(units=1)\n",
        "model1 = tf.keras.Sequential([l0, l1, l2])\n"
      ],
      "execution_count": 0,
      "outputs": []
    },
    {
      "cell_type": "markdown",
      "metadata": {
        "id": "JA5O_MadYrKA",
        "colab_type": "text"
      },
      "source": [
        "compiling and training"
      ]
    },
    {
      "cell_type": "code",
      "metadata": {
        "id": "YHkIlweCYuPF",
        "colab_type": "code",
        "colab": {
          "base_uri": "https://localhost:8080/",
          "height": 34
        },
        "outputId": "edb07510-9615-47a0-9236-05805dd14844"
      },
      "source": [
        "model1.compile(loss='mean_squared_error', optimizer=tf.keras.optimizers.Adam(0.1))\n",
        "\n",
        "history = model1.fit(celsius, farenheit, epochs=500,verbose=False)\n",
        "print('Finished training model')\n"
      ],
      "execution_count": 32,
      "outputs": [
        {
          "output_type": "stream",
          "text": [
            "Finished training model\n"
          ],
          "name": "stdout"
        }
      ]
    },
    {
      "cell_type": "markdown",
      "metadata": {
        "id": "88eqsklhY7nX",
        "colab_type": "text"
      },
      "source": [
        "prediction"
      ]
    },
    {
      "cell_type": "code",
      "metadata": {
        "id": "AbLqq6p-Y9jr",
        "colab_type": "code",
        "colab": {
          "base_uri": "https://localhost:8080/",
          "height": 34
        },
        "outputId": "403dcdac-6278-4a94-d8b8-35098ff7d960"
      },
      "source": [
        "print(model1.predict([40.0]))"
      ],
      "execution_count": 22,
      "outputs": [
        {
          "output_type": "stream",
          "text": [
            "[[103.93996]]\n"
          ],
          "name": "stdout"
        }
      ]
    },
    {
      "cell_type": "markdown",
      "metadata": {
        "id": "I_xjrCnNZAzu",
        "colab_type": "text"
      },
      "source": [
        "Actually \n",
        "\n",
        "40.0 C =104 F\n",
        "\n",
        "with one layer we get 101.8\n",
        "with three layres we get 103.9 approximately 104 F"
      ]
    }
  ]
}
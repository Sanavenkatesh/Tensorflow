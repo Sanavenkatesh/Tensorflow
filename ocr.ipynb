{
  "nbformat": 4,
  "nbformat_minor": 0,
  "metadata": {
    "colab": {
      "name": "ocr.ipynb",
      "provenance": [],
      "include_colab_link": true
    },
    "kernelspec": {
      "name": "python3",
      "display_name": "Python 3"
    }
  },
  "cells": [
    {
      "cell_type": "markdown",
      "metadata": {
        "id": "view-in-github",
        "colab_type": "text"
      },
      "source": [
        "<a href=\"https://colab.research.google.com/github/Sanavenkatesh/Tensorflow/blob/master/ocr.ipynb\" target=\"_parent\"><img src=\"https://colab.research.google.com/assets/colab-badge.svg\" alt=\"Open In Colab\"/></a>"
      ]
    },
    {
      "cell_type": "code",
      "metadata": {
        "id": "Gu-KM1DmMjfG",
        "colab_type": "code",
        "colab": {
          "base_uri": "https://localhost:8080/",
          "height": 34
        },
        "outputId": "ac1c8d16-cde6-4262-c1e7-eba81864a0b0"
      },
      "source": [
        "import tensorflow as tf\n",
        "from tensorflow import keras\n",
        "import numpy as np\n",
        "import matplotlib.pyplot as plt\n",
        "print(tf.__version__)"
      ],
      "execution_count": 13,
      "outputs": [
        {
          "output_type": "stream",
          "text": [
            "1.15.0\n"
          ],
          "name": "stdout"
        }
      ]
    },
    {
      "cell_type": "markdown",
      "metadata": {
        "id": "J-W7TQ-KQPMt",
        "colab_type": "text"
      },
      "source": [
        "downloading data from tensprflow datasets"
      ]
    },
    {
      "cell_type": "code",
      "metadata": {
        "id": "Ua5-OknINr8m",
        "colab_type": "code",
        "colab": {}
      },
      "source": [
        "fashoin_mnist = tf.keras.datasets.mnist\n",
        "(train_images, train_labels), (test_images, test_labels) = tf.keras.datasets.mnist.load_data()\n"
      ],
      "execution_count": 0,
      "outputs": []
    },
    {
      "cell_type": "markdown",
      "metadata": {
        "id": "riTdxifkRO2P",
        "colab_type": "text"
      },
      "source": [
        "as images values ranges from 0 to 255\n",
        "we convert them to 0 to 1 by divide them by 255"
      ]
    },
    {
      "cell_type": "code",
      "metadata": {
        "id": "RzMvEVV1ObjW",
        "colab_type": "code",
        "colab": {
          "base_uri": "https://localhost:8080/",
          "height": 367
        },
        "outputId": "b86d0c60-c4f4-46f1-da0d-25e585102c87"
      },
      "source": [
        "train_images = train_images / 255.0\n",
        "\n",
        "test_images = test_images / 255.0\n",
        "\n",
        "\n",
        "plt.figure(figsize=(10,10))\n",
        "for i in range(15):\n",
        "    plt.subplot(5,5,i+1)\n",
        "    plt.xticks([])\n",
        "    plt.yticks([])\n",
        "    plt.grid(False)\n",
        "    plt.imshow(train_images[i], cmap=plt.cm.binary)\n",
        "    plt.xlabel(train_labels[i])\n",
        "plt.show()\n"
      ],
      "execution_count": 32,
      "outputs": [
        {
          "output_type": "display_data",
          "data": {
            "image/png": "[encoded data removed]",
            "text/plain": [
              "<Figure size 720x720 with 15 Axes>"
            ]
          },
          "metadata": {
            "tags": []
          }
        }
      ]
    },
    {
      "cell_type": "markdown",
      "metadata": {
        "id": "W2F5rVmaRfSQ",
        "colab_type": "text"
      },
      "source": [
        "defning layers \n",
        "here there are three layerys\n",
        "1 input layer with 784 nodes\n",
        "1 hidden layer with 128 nodes\n",
        "1 output layer with 10 nodes"
      ]
    },
    {
      "cell_type": "code",
      "metadata": {
        "id": "UAHk31N8Ou8K",
        "colab_type": "code",
        "colab": {
          "base_uri": "https://localhost:8080/",
          "height": 391
        },
        "outputId": "b545f66b-8018-4372-a2d9-a14b431dd624"
      },
      "source": [
        "model = keras.Sequential([\n",
        "    keras.layers.Flatten(input_shape=(28, 28)),\n",
        "    keras.layers.Dense(128, activation='relu'),\n",
        "    keras.layers.Dense(10, activation='softmax')\n",
        "])\n",
        "\n",
        "\n",
        "model.compile(optimizer='adam',\n",
        "              loss='sparse_categorical_crossentropy',\n",
        "              metrics=['accuracy'])\n",
        "\n",
        "\n",
        "\n",
        "\n",
        "model.fit(train_images, train_labels, epochs=10)\n"
      ],
      "execution_count": 31,
      "outputs": [
        {
          "output_type": "stream",
          "text": [
            "Train on 60000 samples\n",
            "Epoch 1/10\n",
            "60000/60000 [==============================] - 5s 84us/sample - loss: 2.7672 - acc: 0.8601\n",
            "Epoch 2/10\n",
            "60000/60000 [==============================] - 5s 83us/sample - loss: 0.4144 - acc: 0.9060\n",
            "Epoch 3/10\n",
            "60000/60000 [==============================] - 5s 91us/sample - loss: 0.2952 - acc: 0.9270\n",
            "Epoch 4/10\n",
            "60000/60000 [==============================] - 5s 90us/sample - loss: 0.2534 - acc: 0.9381\n",
            "Epoch 5/10\n",
            "60000/60000 [==============================] - 5s 88us/sample - loss: 0.2337 - acc: 0.9419\n",
            "Epoch 6/10\n",
            "60000/60000 [==============================] - 5s 85us/sample - loss: 0.2142 - acc: 0.9471\n",
            "Epoch 7/10\n",
            "60000/60000 [==============================] - 5s 91us/sample - loss: 0.1990 - acc: 0.9510\n",
            "Epoch 8/10\n",
            "60000/60000 [==============================] - 6s 93us/sample - loss: 0.1906 - acc: 0.9529\n",
            "Epoch 9/10\n",
            "60000/60000 [==============================] - 4s 67us/sample - loss: 0.1916 - acc: 0.9545\n",
            "Epoch 10/10\n",
            "60000/60000 [==============================] - 4s 65us/sample - loss: 0.1811 - acc: 0.9571\n"
          ],
          "name": "stdout"
        },
        {
          "output_type": "execute_result",
          "data": {
            "text/plain": [
              "<tensorflow.python.keras.callbacks.History at 0x7fc80e39db70>"
            ]
          },
          "metadata": {
            "tags": []
          },
          "execution_count": 31
        }
      ]
    },
    {
      "cell_type": "code",
      "metadata": {
        "id": "u6RnTpK1PJmu",
        "colab_type": "code",
        "colab": {
          "base_uri": "https://localhost:8080/",
          "height": 68
        },
        "outputId": "69b77c3c-cde9-420a-d5fb-97d03eb21f6e"
      },
      "source": [
        "test_loss, test_acc = model.evaluate(test_images,  test_labels, verbose=2)\n",
        "\n",
        "print('\\nTest accuracy:', test_acc)\n"
      ],
      "execution_count": 22,
      "outputs": [
        {
          "output_type": "stream",
          "text": [
            "10000/10000 - 0s - loss: 0.1981 - acc: 0.9430\n",
            "\n",
            "Test accuracy: 0.943\n"
          ],
          "name": "stdout"
        }
      ]
    },
    {
      "cell_type": "code",
      "metadata": {
        "id": "D4i6g0PZPtJJ",
        "colab_type": "code",
        "colab": {
          "base_uri": "https://localhost:8080/",
          "height": 34
        },
        "outputId": "b9b336d3-da82-4317-8dd6-035ce70d5f44"
      },
      "source": [
        "predictions = model.predict(test_images)\n",
        "\n",
        "print(np.argmax(predictions[100]))\n"
      ],
      "execution_count": 25,
      "outputs": [
        {
          "output_type": "stream",
          "text": [
            "6\n"
          ],
          "name": "stdout"
        }
      ]
    },
    {
      "cell_type": "code",
      "metadata": {
        "id": "wVe13hOPPzx0",
        "colab_type": "code",
        "colab": {
          "base_uri": "https://localhost:8080/",
          "height": 283
        },
        "outputId": "e793469a-7c6f-4050-f31b-d5554bce8f1d"
      },
      "source": [
        "plt.figure()\n",
        "plt.imshow(test_images[100], cmap=plt.cm.binary)\n",
        "plt.grid(False)\n",
        "plt.xlabel(test_labels[100])\n",
        "plt.show()\n"
      ],
      "execution_count": 26,
      "outputs": [
        {
          "output_type": "display_data",
          "data": {
            "image/png": "[encoded data removed]",
            "text/plain": [
              "<Figure size 432x288 with 1 Axes>"
            ]
          },
          "metadata": {
            "tags": []
          }
        }
      ]
    }
  ]
}